{
 "cells": [
  {
   "cell_type": "markdown",
   "metadata": {},
   "source": [
    "# 函数\n",
    "\n",
    "scala身为一个以函数式编程为卖点的语言,函数当然相比起其他语言有更多的特性\n",
    "\n",
    "这边是基础篇,只讨论其中的一些简单特性,关于函数式编程的内容会在后面的专题中讨论\n",
    "\n",
    "## 定义函数\n",
    "\n",
    "函数是代码段的封装,这样的封装可以更好地复用代码\n",
    "\n",
    "scala中定义函数和python一样用`def`关键字.\n",
    "\n",
    "scala定义函数形如:\n",
    "\n",
    "    def funcname(x:参数的Type):返回值的Type={\n",
    "        代码块\n",
    "    }\n",
    "\n",
    "其中返回值的Type可以不定义,scala会自动根据返回值确定类型,如果不用`return`,那么代码块的最后一句将会被执行返回\n",
    "\n",
    "### 命名规范\n",
    "\n",
    "我一般习惯于用python中的命名规范,函数名位小写,单词间用`_`分隔,并一般用动词作为主干\n",
    "\n",
    "### 默认参数\n",
    "\n",
    "和python中一样,scala的函数支持默认参数,只要在参数后面赋值即可\n",
    "\n",
    "### 变长参数\n",
    "\n",
    "和python中一样,scala的函数支持变长参数,python中是`*args`,scala中呢是`args:Int*`\n",
    "\n",
    "### 关键字参数\n",
    "\n",
    "这个就不一样了,因为类型系统,scala不支持关键字参数.\n",
    "\n",
    "\n",
    "*将上一篇中的牛顿法求开根封装为一个函数:*"
   ]
  },
  {
   "cell_type": "code",
   "execution_count": 1,
   "metadata": {
    "collapsed": false
   },
   "outputs": [
    {
     "data": {
      "text/plain": [
       "defined \u001b[32mfunction \u001b[36mcalcul_sqrt_newton\u001b[0m"
      ]
     },
     "metadata": {},
     "output_type": "display_data"
    }
   ],
   "source": [
    "def calcul_sqrt_newton(x:Int,times:Int=10):Double={\n",
    "    var i = 0\n",
    "    val N = 100\n",
    "    var z = 1.0\n",
    "    while ( i < N){\n",
    "        z = z-(z*z-x)/(2*z)\n",
    "        i+=1\n",
    "\n",
    "    }\n",
    "    z\n",
    "}"
   ]
  },
  {
   "cell_type": "markdown",
   "metadata": {},
   "source": [
    "### 函数调用\n",
    "\n",
    "和其他语言一样scala的形参根据位置赋值"
   ]
  },
  {
   "cell_type": "code",
   "execution_count": 3,
   "metadata": {
    "collapsed": false
   },
   "outputs": [
    {
     "data": {
      "text/plain": [
       "\u001b[36mres2\u001b[0m: Double = \u001b[32m1.7320508075688774\u001b[0m"
      ]
     },
     "metadata": {},
     "output_type": "display_data"
    }
   ],
   "source": [
    "calcul_sqrt_newton(3,20)"
   ]
  },
  {
   "cell_type": "markdown",
   "metadata": {},
   "source": [
    "## 函数是一等公民\n",
    "\n",
    "在scala中,函数是一等公民,就和python中一样,函数可以传递.\n",
    "函数作为参数需要像这样指出参数类型和返回值类型\n",
    "\n",
    "    f:(参数类型)=>返回值类型\n",
    "\n",
    "*函数作为参数传递:*"
   ]
  },
  {
   "cell_type": "code",
   "execution_count": 20,
   "metadata": {
    "collapsed": false
   },
   "outputs": [
    {
     "data": {
      "text/plain": [
       "defined \u001b[32mfunction \u001b[36madd_result\u001b[0m"
      ]
     },
     "metadata": {},
     "output_type": "display_data"
    }
   ],
   "source": [
    "def add_result(f:(Int,Int)=>Double,args:(Int,Int)*) = {\n",
    "    \n",
    "    val s = for (i <- args)yield( f(i._1,i._2) )\n",
    "    s.sum\n",
    "}"
   ]
  },
  {
   "cell_type": "code",
   "execution_count": 21,
   "metadata": {
    "collapsed": false
   },
   "outputs": [
    {
     "data": {
      "text/plain": [
       "\u001b[36mres13\u001b[0m: Double = \u001b[32m3.1462643699419726\u001b[0m"
      ]
     },
     "metadata": {},
     "output_type": "display_data"
    }
   ],
   "source": [
    "add_result(calcul_sqrt_newton,(2,20),(3,20))//求出2,3开方之和"
   ]
  },
  {
   "cell_type": "markdown",
   "metadata": {},
   "source": [
    "## 匿名函数\n",
    "\n",
    "上例中我们的`add_result`方法调用了之前的牛顿法,如果我们想换个别的可以么?当然可以.但每次都要先定义函数在调用太麻烦了,在python中我们可以用`lambda表达式`作为参数,scala比python还要强大,它可以使用真正的匿名函数实现完全的函数功能\n",
    "\n",
    "*在`add_result`中使用匿名函数:*"
   ]
  },
  {
   "cell_type": "code",
   "execution_count": 26,
   "metadata": {
    "collapsed": false
   },
   "outputs": [
    {
     "data": {
      "text/plain": [
       "\u001b[36mres16\u001b[0m: Double = \u001b[32m16.666666666666668\u001b[0m"
      ]
     },
     "metadata": {},
     "output_type": "display_data"
    }
   ],
   "source": [
    "add_result((x:Int,y:Int) => {y/x.toDouble},(2,20),(3,20))"
   ]
  },
  {
   "cell_type": "markdown",
   "metadata": {},
   "source": [
    "### 为匿名函数绑定名字\n",
    "\n",
    "虽然看着像脱裤子放屁,但这也确实是函数的一种定义方式,这种方式可以不用`def`关键字定义函数,如果理解函数也是一种值,那其实还是比较有可读性的.注意赋值一般要付给常量,函数有不变性"
   ]
  },
  {
   "cell_type": "code",
   "execution_count": 28,
   "metadata": {
    "collapsed": false
   },
   "outputs": [
    {
     "data": {
      "text/plain": [
       "\u001b[36mf1\u001b[0m: (Int, Int) => Double = <function2>"
      ]
     },
     "metadata": {},
     "output_type": "display_data"
    }
   ],
   "source": [
    "val f1=(x:Int,y:Int) => {y/x.toDouble}"
   ]
  },
  {
   "cell_type": "code",
   "execution_count": 31,
   "metadata": {
    "collapsed": false
   },
   "outputs": [
    {
     "data": {
      "text/plain": [
       "\u001b[36mres19\u001b[0m: Double = \u001b[32m5.0\u001b[0m"
      ]
     },
     "metadata": {},
     "output_type": "display_data"
    }
   ],
   "source": [
    "f1(10,50)"
   ]
  },
  {
   "cell_type": "markdown",
   "metadata": {},
   "source": [
    "### 容器中使用匿名函数\n",
    "\n",
    "匿名函数最常见的作用就是在容器中使用了\n",
    "\n",
    "*生成一个新列表,将旧列表中的每个元素变为字符串型:*"
   ]
  },
  {
   "cell_type": "code",
   "execution_count": 32,
   "metadata": {
    "collapsed": false
   },
   "outputs": [
    {
     "data": {
      "text/plain": [
       "\u001b[36ml1\u001b[0m: List[Int] = \u001b[33mList\u001b[0m(\u001b[32m1\u001b[0m, \u001b[32m2\u001b[0m, \u001b[32m3\u001b[0m, \u001b[32m4\u001b[0m, \u001b[32m5\u001b[0m)"
      ]
     },
     "metadata": {},
     "output_type": "display_data"
    }
   ],
   "source": [
    "val l1 = List(1,2,3,4,5)"
   ]
  },
  {
   "cell_type": "code",
   "execution_count": 33,
   "metadata": {
    "collapsed": false
   },
   "outputs": [
    {
     "data": {
      "text/plain": [
       "\u001b[36mres21\u001b[0m: List[java.lang.String] = \u001b[33mList\u001b[0m(\u001b[32m\"1\"\u001b[0m, \u001b[32m\"2\"\u001b[0m, \u001b[32m\"3\"\u001b[0m, \u001b[32m\"4\"\u001b[0m, \u001b[32m\"5\"\u001b[0m)"
      ]
     },
     "metadata": {},
     "output_type": "display_data"
    }
   ],
   "source": [
    "l1.map((i:Int)=>i.toString)"
   ]
  },
  {
   "cell_type": "markdown",
   "metadata": {},
   "source": [
    "#### 函数变量的短格式\n",
    "scala很智能,它可以根据调用方法的对象判断参数类型,因此之前的函数可以写成"
   ]
  },
  {
   "cell_type": "code",
   "execution_count": 34,
   "metadata": {
    "collapsed": false
   },
   "outputs": [
    {
     "data": {
      "text/plain": [
       "\u001b[36mres22\u001b[0m: List[java.lang.String] = \u001b[33mList\u001b[0m(\u001b[32m\"1\"\u001b[0m, \u001b[32m\"2\"\u001b[0m, \u001b[32m\"3\"\u001b[0m, \u001b[32m\"4\"\u001b[0m, \u001b[32m\"5\"\u001b[0m)"
      ]
     },
     "metadata": {},
     "output_type": "display_data"
    }
   ],
   "source": [
    "l1.map(i=>i.toString)"
   ]
  },
  {
   "cell_type": "markdown",
   "metadata": {},
   "source": [
    "#### 占位符语法\n",
    "\n",
    "事实上我们的形参是什么名字根本不重要,这种时候还可以用占位符简写"
   ]
  },
  {
   "cell_type": "code",
   "execution_count": 35,
   "metadata": {
    "collapsed": false
   },
   "outputs": [
    {
     "data": {
      "text/plain": [
       "\u001b[36mres23\u001b[0m: List[java.lang.String] = \u001b[33mList\u001b[0m(\u001b[32m\"1\"\u001b[0m, \u001b[32m\"2\"\u001b[0m, \u001b[32m\"3\"\u001b[0m, \u001b[32m\"4\"\u001b[0m, \u001b[32m\"5\"\u001b[0m)"
      ]
     },
     "metadata": {},
     "output_type": "display_data"
    }
   ],
   "source": [
    "l1.map(_.toString)"
   ]
  },
  {
   "cell_type": "markdown",
   "metadata": {},
   "source": [
    "#### 最简形式,利用语法糖\n",
    "\n",
    "还记得之前讲过方法调用的语法糖么通过这种写法可以更便于阅读和省代码"
   ]
  },
  {
   "cell_type": "code",
   "execution_count": 43,
   "metadata": {
    "collapsed": false
   },
   "outputs": [
    {
     "data": {
      "text/plain": [
       "\u001b[36mres27\u001b[0m: List[java.lang.String] = \u001b[33mList\u001b[0m(\u001b[32m\"1\"\u001b[0m, \u001b[32m\"2\"\u001b[0m, \u001b[32m\"3\"\u001b[0m, \u001b[32m\"4\"\u001b[0m, \u001b[32m\"5\"\u001b[0m)"
      ]
     },
     "metadata": {},
     "output_type": "display_data"
    }
   ],
   "source": [
    "l1 map (_ toString)"
   ]
  }
 ],
 "metadata": {
  "kernelspec": {
   "display_name": "Scala 2.10",
   "language": "scala210",
   "name": "scala210"
  },
  "language_info": {
   "codemirror_mode": "text/x-scala",
   "file_extension": "scala",
   "mimetype": "text/x-scala",
   "name": "scala210",
   "pygments_lexer": "scala",
   "version": "2.10.5"
  }
 },
 "nbformat": 4,
 "nbformat_minor": 0
}
