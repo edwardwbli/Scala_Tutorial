{
 "cells": [
  {
   "cell_type": "markdown",
   "metadata": {},
   "source": [
    "# sbt换源\n",
    "\n",
    "scala一般使用sbt或者maven作为构建工具,但最常用的是sbt\n",
    "\n",
    "sbt虽然方便,但因为\"你懂得\"的原因(感谢方校长,愿病魔早日战胜方校长)\n",
    "\n",
    "\n",
    "sbt源都在国外,而且多是https的源...国内基本都连不上,咋办呢,换源!"
   ]
  },
  {
   "cell_type": "markdown",
   "metadata": {},
   "source": [
    "## 源在哪里配置\n",
    "\n",
    "sbt的设置在源文件下sbt-launch.jar中,但也不是没法自定义啦~再根目录下的.sbt文件夹中可以自定义一些设置~"
   ]
  },
  {
   "cell_type": "code",
   "execution_count": 1,
   "metadata": {
    "collapsed": false
   },
   "outputs": [
    {
     "name": "stdout",
     "output_type": "stream",
     "text": [
      "/Users/huangsizhe/.sbt\n"
     ]
    }
   ],
   "source": [
    "%cd ~/.sbt"
   ]
  },
  {
   "cell_type": "code",
   "execution_count": 2,
   "metadata": {
    "collapsed": false
   },
   "outputs": [
    {
     "name": "stdout",
     "output_type": "stream",
     "text": [
      "\u001b[1m\u001b[36m0.13\u001b[m\u001b[m/         \u001b[1m\u001b[36mboot\u001b[m\u001b[m/         repositories\r\n"
     ]
    }
   ],
   "source": [
    "%ls"
   ]
  },
  {
   "cell_type": "markdown",
   "metadata": {},
   "source": [
    "`repositories`就是配置文件了,如果没有就自己新建一个,然后改成这样~"
   ]
  },
  {
   "cell_type": "code",
   "execution_count": 3,
   "metadata": {
    "collapsed": false
   },
   "outputs": [
    {
     "name": "stdout",
     "output_type": "stream",
     "text": [
      "[repositories]\r\n",
      "  local\r\n",
      "  oschina:http://maven.oschina.net/content/groups/public/\r\n",
      "  oschina-ivy:http://maven.oschina.net/content/groups/public/, [organization]/[module]/(scala_[scalaVersion]/)(sbt_[sbtVersion]/)[revision]/[type]s/[artifact](-[classifier]).[ext] \r\n",
      "  maven-central\r\n",
      "\r\n",
      "[boot]\r\n",
      "  directory: ${sbt.boot.directory-${sbt.global.base-${user.home}/.sbt}/boot/}\r\n",
      "\r\n",
      "[ivy]\r\n",
      "  ivy-home: ${sbt.ivy.home-${user.home}/.ivy2/}\r\n",
      "  checksums: ${sbt.checksums-sha1,md5}\r\n",
      "  override-build-repos: ${sbt.override.build.repos-false}\r\n",
      "  repository-config: ${sbt.repository.config-${sbt.global.base-${user.home}/.sbt}/repositories}\r\n"
     ]
    }
   ],
   "source": [
    "!cat repositories"
   ]
  }
 ],
 "metadata": {
  "kernelspec": {
   "display_name": "Python 2",
   "language": "python",
   "name": "python2"
  },
  "language_info": {
   "codemirror_mode": {
    "name": "ipython",
    "version": 2
   },
   "file_extension": ".py",
   "mimetype": "text/x-python",
   "name": "python",
   "nbconvert_exporter": "python",
   "pygments_lexer": "ipython2",
   "version": "2.7.10"
  }
 },
 "nbformat": 4,
 "nbformat_minor": 0
}
