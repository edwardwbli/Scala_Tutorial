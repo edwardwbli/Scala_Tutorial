{
 "cells": [
  {
   "cell_type": "markdown",
   "metadata": {},
   "source": [
    "# Day6--类与对象\n",
    "\n",
    "人们说scala是FP和OOP的杂交产物,除了函数式编程范式外,面向对象编程也是scala的主要范式\n",
    "\n",
    "## 定义类\n",
    "\n",
    "scala定义类形如:\n",
    "```scala\n",
    "class Counter {\n",
    "    private var value = 0//必须初始化字段\n",
    "    def increment(){value +=1}\n",
    "    def current = value//取值器\n",
    "    \n",
    "}\n",
    "```\n",
    "\n"
   ]
  },
  {
   "cell_type": "markdown",
   "metadata": {},
   "source": [
    "> 定义一个二维向量类"
   ]
  },
  {
   "cell_type": "code",
   "execution_count": 29,
   "metadata": {
    "collapsed": false
   },
   "outputs": [
    {
     "data": {
      "text/plain": [
       "defined \u001b[32mclass \u001b[36mVct\u001b[0m"
      ]
     },
     "metadata": {},
     "output_type": "display_data"
    }
   ],
   "source": [
    "class Vct(val X:Double,val Y:Double ){\n",
    "    lazy val len = math.sqrt(math.pow(X,2)+math.pow(Y,2))\n",
    "}"
   ]
  },
  {
   "cell_type": "markdown",
   "metadata": {},
   "source": [
    "上面的类定义使用了惰性计算`lazy val`,只有在 调用len时,len才会被计算,否则它只是一段被记录的代码"
   ]
  },
  {
   "cell_type": "code",
   "execution_count": 30,
   "metadata": {
    "collapsed": false
   },
   "outputs": [
    {
     "data": {
      "text/plain": [
       "\u001b[36mv1\u001b[0m: \u001b[32mVct\u001b[0m = cmd27$$user$Vct@20ac17ba"
      ]
     },
     "metadata": {},
     "output_type": "display_data"
    }
   ],
   "source": [
    "val v1 = new Vct(2,2)"
   ]
  },
  {
   "cell_type": "code",
   "execution_count": 31,
   "metadata": {
    "collapsed": false
   },
   "outputs": [
    {
     "data": {
      "text/plain": [
       "\u001b[36mres29\u001b[0m: \u001b[32mDouble\u001b[0m = \u001b[32m2.8284271247461903\u001b[0m"
      ]
     },
     "metadata": {},
     "output_type": "display_data"
    }
   ],
   "source": [
    "v1.len"
   ]
  },
  {
   "cell_type": "code",
   "execution_count": 4,
   "metadata": {
    "collapsed": false
   },
   "outputs": [
    {
     "data": {
      "text/plain": [
       "\u001b[36mv2\u001b[0m: \u001b[32mVct\u001b[0m = cmd0$$user$Vct@12c8b1ac"
      ]
     },
     "metadata": {},
     "output_type": "display_data"
    }
   ],
   "source": [
    "val v2 = new Vct(1,0)"
   ]
  },
  {
   "cell_type": "code",
   "execution_count": 5,
   "metadata": {
    "collapsed": false
   },
   "outputs": [
    {
     "data": {
      "text/plain": [
       "\u001b[36mres4\u001b[0m: \u001b[32mDouble\u001b[0m = \u001b[32m1.0\u001b[0m"
      ]
     },
     "metadata": {},
     "output_type": "display_data"
    }
   ],
   "source": [
    "v2.len"
   ]
  },
  {
   "cell_type": "markdown",
   "metadata": {},
   "source": [
    "## 封装\n",
    "\n",
    "scala可以用`private`关键字定义私有变量,私有变量是外部不可见的"
   ]
  },
  {
   "cell_type": "markdown",
   "metadata": {
    "collapsed": true
   },
   "source": [
    ">例 : Counter"
   ]
  },
  {
   "cell_type": "code",
   "execution_count": 6,
   "metadata": {
    "collapsed": false
   },
   "outputs": [
    {
     "data": {
      "text/plain": [
       "defined \u001b[32mclass \u001b[36mCounter\u001b[0m"
      ]
     },
     "metadata": {},
     "output_type": "display_data"
    }
   ],
   "source": [
    "class Counter { \n",
    "    private var value = 0\n",
    "    def increment(){value +=1} \n",
    "    def current = value\n",
    "}"
   ]
  },
  {
   "cell_type": "code",
   "execution_count": 7,
   "metadata": {
    "collapsed": false
   },
   "outputs": [
    {
     "data": {
      "text/plain": [
       "\u001b[36mc1\u001b[0m: \u001b[32mCounter\u001b[0m = cmd5$$user$Counter@49ed74b8"
      ]
     },
     "metadata": {},
     "output_type": "display_data"
    }
   ],
   "source": [
    "var c1 = new Counter()"
   ]
  },
  {
   "cell_type": "code",
   "execution_count": 8,
   "metadata": {
    "collapsed": false
   },
   "outputs": [
    {
     "data": {
      "text/plain": [
       "\u001b[36mres7\u001b[0m: \u001b[32mInt\u001b[0m = \u001b[32m0\u001b[0m"
      ]
     },
     "metadata": {},
     "output_type": "display_data"
    }
   ],
   "source": [
    "c1.current"
   ]
  },
  {
   "cell_type": "code",
   "execution_count": 9,
   "metadata": {
    "collapsed": false
   },
   "outputs": [
    {
     "ename": "",
     "evalue": "",
     "output_type": "error",
     "traceback": [
      "Compilation Failed",
      "\u001b[31mMain.scala:68: variable value in class Counter cannot be accessed in cmd6.INSTANCE.$ref$cmd5.Counter",
      "c1.value",
      "   ^\u001b[0m"
     ]
    }
   ],
   "source": [
    "c1.value"
   ]
  },
  {
   "cell_type": "markdown",
   "metadata": {},
   "source": [
    "### get和set"
   ]
  },
  {
   "cell_type": "markdown",
   "metadata": {},
   "source": [
    "封装的另一个用处是在读写对象状态时做控制,这就涉及到scala的访问控制了\n",
    "\n",
    "首先,Scala会自动把类变成public——在Scala里,任何没有标记为private 或者protected的数据都默认是public。\n",
    "\n",
    "+ 我们把属性声明为val,Scala把它定义为一个private final的字段,给 它创建了public方法number(),用以取值。\n",
    "+ 声明为var,所以Scala 将它定义了一个private字段,并同时提供了public的getter和 setter方法。\n",
    "+ 如果参数既不是val,又不是var,那Scala就会创建一个private字段以及private getter和setter方法。不过,就不能在类外访问这个参数了。\n",
    "\n",
    "我们可以根据这一特性在定义的时候确定访问权限,scala中的约定是读取是属性名,而写是属性名+`_`"
   ]
  },
  {
   "cell_type": "code",
   "execution_count": 10,
   "metadata": {
    "collapsed": false
   },
   "outputs": [
    {
     "data": {
      "text/plain": [
       "defined \u001b[32mclass \u001b[36mPerson\u001b[0m"
      ]
     },
     "metadata": {},
     "output_type": "display_data"
    }
   ],
   "source": [
    "class Person{\n",
    "    private var privateAge = 0\n",
    "    \n",
    "    def age = privateAge\n",
    "    def age_=(newValue:Int){\n",
    "        if (newValue > privateAge){\n",
    "            privateAge = newValue\n",
    "        }\n",
    "    }\n",
    "}"
   ]
  },
  {
   "cell_type": "code",
   "execution_count": 11,
   "metadata": {
    "collapsed": false
   },
   "outputs": [
    {
     "data": {
      "text/plain": [
       "\u001b[36mbob\u001b[0m: \u001b[32mPerson\u001b[0m = cmd8$$user$Person@2c1292a5"
      ]
     },
     "metadata": {},
     "output_type": "display_data"
    }
   ],
   "source": [
    "var bob = new Person()"
   ]
  },
  {
   "cell_type": "code",
   "execution_count": 12,
   "metadata": {
    "collapsed": false
   },
   "outputs": [
    {
     "data": {
      "text/plain": []
     },
     "metadata": {},
     "output_type": "display_data"
    }
   ],
   "source": [
    "bob.age = 15"
   ]
  },
  {
   "cell_type": "code",
   "execution_count": 13,
   "metadata": {
    "collapsed": false
   },
   "outputs": [
    {
     "data": {
      "text/plain": [
       "\u001b[36mres11\u001b[0m: \u001b[32mInt\u001b[0m = \u001b[32m15\u001b[0m"
      ]
     },
     "metadata": {},
     "output_type": "display_data"
    }
   ],
   "source": [
    "bob.age"
   ]
  },
  {
   "cell_type": "code",
   "execution_count": 14,
   "metadata": {
    "collapsed": false
   },
   "outputs": [
    {
     "data": {
      "text/plain": []
     },
     "metadata": {},
     "output_type": "display_data"
    }
   ],
   "source": [
    "bob.age=14"
   ]
  },
  {
   "cell_type": "code",
   "execution_count": 15,
   "metadata": {
    "collapsed": false
   },
   "outputs": [
    {
     "data": {
      "text/plain": [
       "\u001b[36mres13\u001b[0m: \u001b[32mInt\u001b[0m = \u001b[32m15\u001b[0m"
      ]
     },
     "metadata": {},
     "output_type": "display_data"
    }
   ],
   "source": [
    "bob.age"
   ]
  },
  {
   "cell_type": "markdown",
   "metadata": {},
   "source": [
    "## 构造器"
   ]
  },
  {
   "cell_type": "markdown",
   "metadata": {},
   "source": [
    "实际上我们在之前已经接触过构造器了,构造器用来初始化一个对象,scala的构造器分为辅助构造器和主构造器"
   ]
  },
  {
   "cell_type": "markdown",
   "metadata": {},
   "source": [
    "### 主构造器"
   ]
  },
  {
   "cell_type": "markdown",
   "metadata": {},
   "source": [
    "主构造器就是之前我们定义Vct时的方法,把要定义的属性放在类名后的括号中即可,一般的我们需要在其中定义参数时加上val或者var来代表是什么类型的变量,不过不加,则等同于方法,如果被至少一个内部定义的方法使用,则会升格为字段,否则只是参数"
   ]
  },
  {
   "cell_type": "markdown",
   "metadata": {},
   "source": [
    "### 辅助构造器\n",
    "\n",
    "辅助构造器使用this作为关键字,可以有任意多个"
   ]
  },
  {
   "cell_type": "code",
   "execution_count": 16,
   "metadata": {
    "collapsed": false
   },
   "outputs": [
    {
     "data": {
      "text/plain": [
       "defined \u001b[32mclass \u001b[36mPerson\u001b[0m"
      ]
     },
     "metadata": {},
     "output_type": "display_data"
    }
   ],
   "source": [
    "class Person{\n",
    "    private var privateAge = 0\n",
    "    var name = \"\"\n",
    "    def age = privateAge\n",
    "    def age_=(newValue:Int){\n",
    "        if (newValue > privateAge){\n",
    "            privateAge = newValue\n",
    "        }\n",
    "    }\n",
    "    def this(name:String){\n",
    "        this()\n",
    "        this.name = name\n",
    "    }\n",
    "    def this(name:String,age:Int){\n",
    "        this(name)\n",
    "        this.age = age\n",
    "    }\n",
    "}"
   ]
  },
  {
   "cell_type": "code",
   "execution_count": 17,
   "metadata": {
    "collapsed": false
   },
   "outputs": [
    {
     "data": {
      "text/plain": [
       "\u001b[36mp1\u001b[0m: \u001b[32mPerson\u001b[0m = cmd14$$user$Person@220d4007"
      ]
     },
     "metadata": {},
     "output_type": "display_data"
    }
   ],
   "source": [
    "val p1 = new Person"
   ]
  },
  {
   "cell_type": "code",
   "execution_count": 18,
   "metadata": {
    "collapsed": false
   },
   "outputs": [
    {
     "data": {
      "text/plain": [
       "\u001b[36mp2\u001b[0m: \u001b[32mPerson\u001b[0m = cmd14$$user$Person@b3d5f16"
      ]
     },
     "metadata": {},
     "output_type": "display_data"
    }
   ],
   "source": [
    "val p2 = new Person(\"Bob\")"
   ]
  },
  {
   "cell_type": "code",
   "execution_count": 19,
   "metadata": {
    "collapsed": false,
    "scrolled": true
   },
   "outputs": [
    {
     "data": {
      "text/plain": [
       "\u001b[36mp3\u001b[0m: \u001b[32mPerson\u001b[0m = cmd14$$user$Person@7f805ee3"
      ]
     },
     "metadata": {},
     "output_type": "display_data"
    }
   ],
   "source": [
    "val p3 = new Person(\"Bob\",10)"
   ]
  },
  {
   "cell_type": "code",
   "execution_count": 20,
   "metadata": {
    "collapsed": false
   },
   "outputs": [
    {
     "data": {
      "text/plain": [
       "\u001b[36mres18\u001b[0m: \u001b[32mString\u001b[0m = \u001b[32m\"\"\u001b[0m"
      ]
     },
     "metadata": {},
     "output_type": "display_data"
    }
   ],
   "source": [
    "p1.name"
   ]
  },
  {
   "cell_type": "code",
   "execution_count": 21,
   "metadata": {
    "collapsed": false
   },
   "outputs": [
    {
     "data": {
      "text/plain": [
       "\u001b[36mres19\u001b[0m: \u001b[32mString\u001b[0m = \u001b[32m\"Bob\"\u001b[0m"
      ]
     },
     "metadata": {},
     "output_type": "display_data"
    }
   ],
   "source": [
    "p2.name"
   ]
  },
  {
   "cell_type": "code",
   "execution_count": 22,
   "metadata": {
    "collapsed": false
   },
   "outputs": [
    {
     "data": {
      "text/plain": [
       "\u001b[36mres20\u001b[0m: \u001b[32mInt\u001b[0m = \u001b[32m10\u001b[0m"
      ]
     },
     "metadata": {},
     "output_type": "display_data"
    }
   ],
   "source": [
    "p3.age"
   ]
  },
  {
   "cell_type": "markdown",
   "metadata": {},
   "source": [
    "## 运算符重载与方法调用\n",
    "\n",
    "准确来说scala没有运算符重载,它只是可以拿符号作为方法名而已"
   ]
  },
  {
   "cell_type": "code",
   "execution_count": 82,
   "metadata": {
    "collapsed": false
   },
   "outputs": [
    {
     "data": {
      "text/plain": [
       "defined \u001b[32mclass \u001b[36mVct\u001b[0m"
      ]
     },
     "metadata": {},
     "output_type": "display_data"
    }
   ],
   "source": [
    "class Vct(val X:Double,val Y:Double ){\n",
    "    lazy val len = math.sqrt(math.pow(X,2)+math.pow(Y,2))\n",
    "    def + =(that:Vct)=>new Vct(X+that.X,Y+that.Y)\n",
    "}"
   ]
  },
  {
   "cell_type": "code",
   "execution_count": 84,
   "metadata": {
    "collapsed": false
   },
   "outputs": [
    {
     "data": {
      "text/plain": [
       "\u001b[36mnv1\u001b[0m: \u001b[32mVct\u001b[0m = cmd64$$user$Vct@dbf8bfc"
      ]
     },
     "metadata": {},
     "output_type": "display_data"
    }
   ],
   "source": [
    "val nv1 = new Vct(1,2)"
   ]
  },
  {
   "cell_type": "code",
   "execution_count": 85,
   "metadata": {
    "collapsed": false
   },
   "outputs": [
    {
     "data": {
      "text/plain": [
       "\u001b[36mnv2\u001b[0m: \u001b[32mVct\u001b[0m = cmd64$$user$Vct@6870cf4e"
      ]
     },
     "metadata": {},
     "output_type": "display_data"
    }
   ],
   "source": [
    "val nv2 = new Vct(0,2)"
   ]
  },
  {
   "cell_type": "code",
   "execution_count": 86,
   "metadata": {
    "collapsed": false
   },
   "outputs": [
    {
     "data": {
      "text/plain": [
       "\u001b[36mnv3\u001b[0m: \u001b[32mVct\u001b[0m = cmd64$$user$Vct@495a243f"
      ]
     },
     "metadata": {},
     "output_type": "display_data"
    }
   ],
   "source": [
    "val nv3 = nv1 + nv2"
   ]
  },
  {
   "cell_type": "code",
   "execution_count": 87,
   "metadata": {
    "collapsed": false
   },
   "outputs": [
    {
     "data": {
      "text/plain": [
       "\u001b[36mres69\u001b[0m: \u001b[32mDouble\u001b[0m = \u001b[32m1.0\u001b[0m"
      ]
     },
     "metadata": {},
     "output_type": "display_data"
    }
   ],
   "source": [
    "nv3.X"
   ]
  },
  {
   "cell_type": "code",
   "execution_count": 88,
   "metadata": {
    "collapsed": false
   },
   "outputs": [
    {
     "data": {
      "text/plain": [
       "\u001b[36mres70\u001b[0m: \u001b[32mDouble\u001b[0m = \u001b[32m4.0\u001b[0m"
      ]
     },
     "metadata": {},
     "output_type": "display_data"
    }
   ],
   "source": [
    "nv3.Y"
   ]
  },
  {
   "cell_type": "markdown",
   "metadata": {},
   "source": [
    "## 继承"
   ]
  },
  {
   "cell_type": "markdown",
   "metadata": {
    "collapsed": true
   },
   "source": [
    "类的继承语法类似java,同样是单继承,只是java是多接口而scala是多特性,这个后面会说"
   ]
  },
  {
   "cell_type": "code",
   "execution_count": 23,
   "metadata": {
    "collapsed": false
   },
   "outputs": [
    {
     "data": {
      "text/plain": [
       "defined \u001b[32mclass \u001b[36mEmployee\u001b[0m"
      ]
     },
     "metadata": {},
     "output_type": "display_data"
    }
   ],
   "source": [
    "class Employee extends Person {\n",
    "    var salary = 0.0\n",
    "}"
   ]
  },
  {
   "cell_type": "code",
   "execution_count": 24,
   "metadata": {
    "collapsed": false
   },
   "outputs": [
    {
     "data": {
      "text/plain": [
       "\u001b[36me1\u001b[0m: \u001b[32mEmployee\u001b[0m = cmd21$$user$Employee@1dbd0a93"
      ]
     },
     "metadata": {},
     "output_type": "display_data"
    }
   ],
   "source": [
    "val e1 = new Employee"
   ]
  },
  {
   "cell_type": "code",
   "execution_count": 25,
   "metadata": {
    "collapsed": false
   },
   "outputs": [
    {
     "data": {
      "text/plain": [
       "\u001b[36mres23\u001b[0m: \u001b[32mString\u001b[0m = \u001b[32m\"\"\u001b[0m"
      ]
     },
     "metadata": {},
     "output_type": "display_data"
    }
   ],
   "source": [
    "e1.name"
   ]
  },
  {
   "cell_type": "markdown",
   "metadata": {},
   "source": [
    "需要注意的是辅助构造器是不会被继承的"
   ]
  },
  {
   "cell_type": "markdown",
   "metadata": {},
   "source": [
    "### 匿名子类\n",
    "\n",
    "很神奇,scala允许你定义一个匿名的子类,"
   ]
  },
  {
   "cell_type": "code",
   "execution_count": 38,
   "metadata": {
    "collapsed": false
   },
   "outputs": [
    {
     "data": {
      "text/plain": [
       "\u001b[36malien\u001b[0m: \u001b[32mPerson\u001b[0m{def greeting: String} = cmd34$$user$$anonfun$1$$anon$1[name=Alien]"
      ]
     },
     "metadata": {},
     "output_type": "display_data"
    }
   ],
   "source": [
    "val alien = new Person(\"Alien\"){\n",
    "    def greeting = \"I'm Alien\"\n",
    "}"
   ]
  },
  {
   "cell_type": "code",
   "execution_count": 39,
   "metadata": {
    "collapsed": false
   },
   "outputs": [
    {
     "data": {
      "text/plain": [
       "\u001b[36mres35\u001b[0m: \u001b[32mPerson\u001b[0m{def greeting: String} = cmd34$$user$$anonfun$1$$anon$1[name=Alien]"
      ]
     },
     "metadata": {},
     "output_type": "display_data"
    }
   ],
   "source": [
    "alien"
   ]
  },
  {
   "cell_type": "markdown",
   "metadata": {},
   "source": [
    "可以看到实际上创建出的是一个结构类型对象,后面会在进阶中有讨论,它的类型标记为`Person{def greeting: String}`它也是一个可用的类型"
   ]
  },
  {
   "cell_type": "code",
   "execution_count": 42,
   "metadata": {
    "collapsed": false
   },
   "outputs": [
    {
     "data": {
      "text/plain": [
       "defined \u001b[32mfunction \u001b[36mmeet\u001b[0m"
      ]
     },
     "metadata": {},
     "output_type": "display_data"
    }
   ],
   "source": [
    "def meet(p:Person{def greeting: String}) {\n",
    "    println(p.name+\" says:\"+ p.greeting)\n",
    "}"
   ]
  },
  {
   "cell_type": "code",
   "execution_count": 43,
   "metadata": {
    "collapsed": false
   },
   "outputs": [
    {
     "name": "stdout",
     "output_type": "stream",
     "text": [
      "Alien says:I'm Alien\n"
     ]
    },
    {
     "data": {
      "text/plain": []
     },
     "metadata": {},
     "output_type": "display_data"
    }
   ],
   "source": [
    "meet(alien)"
   ]
  },
  {
   "cell_type": "markdown",
   "metadata": {},
   "source": [
    "### 抽象类和抽象字段\n",
    "\n",
    "所谓抽象类就是不定义具体实现而只先声明的类,同理就是抽象字段了,abstract字段用于标识抽象类,而凡是没有实现的字段都是抽象字段."
   ]
  },
  {
   "cell_type": "code",
   "execution_count": 44,
   "metadata": {
    "collapsed": false
   },
   "outputs": [
    {
     "data": {
      "text/plain": [
       "defined \u001b[32mclass \u001b[36mBook\u001b[0m"
      ]
     },
     "metadata": {},
     "output_type": "display_data"
    }
   ],
   "source": [
    "abstract class Book(val name:String){\n",
    "    def id:Int\n",
    "}"
   ]
  },
  {
   "cell_type": "markdown",
   "metadata": {},
   "source": [
    "### 重写\n",
    "\n",
    "方法的重写使用override关键字标识,比如`toString`方法,这个是每个类默认都有的方法,所以一定是重写"
   ]
  },
  {
   "cell_type": "code",
   "execution_count": 26,
   "metadata": {
    "collapsed": false
   },
   "outputs": [
    {
     "data": {
      "text/plain": [
       "defined \u001b[32mclass \u001b[36mPerson\u001b[0m"
      ]
     },
     "metadata": {},
     "output_type": "display_data"
    }
   ],
   "source": [
    "class Person{\n",
    "    private var privateAge = 0\n",
    "    var name = \"\"\n",
    "    def age = privateAge\n",
    "    def age_=(newValue:Int){\n",
    "        if (newValue > privateAge){\n",
    "            privateAge = newValue\n",
    "        }\n",
    "    }\n",
    "    def this(name:String){\n",
    "        this()\n",
    "        this.name = name\n",
    "    }\n",
    "    def this(name:String,age:Int){\n",
    "        this(name)\n",
    "        this.age = age\n",
    "    }\n",
    "    override def toString = getClass.getName + \"[name=\" + name + \"]\"\n",
    "}"
   ]
  },
  {
   "cell_type": "code",
   "execution_count": 27,
   "metadata": {
    "collapsed": false
   },
   "outputs": [
    {
     "data": {
      "text/plain": [
       "\u001b[36mp4\u001b[0m: \u001b[32mPerson\u001b[0m = cmd24$$user$Person[name=Bobee]"
      ]
     },
     "metadata": {},
     "output_type": "display_data"
    }
   ],
   "source": [
    "val p4 = new Person(\"Bobee\",12)"
   ]
  },
  {
   "cell_type": "code",
   "execution_count": 28,
   "metadata": {
    "collapsed": false
   },
   "outputs": [
    {
     "data": {
      "text/plain": []
     },
     "metadata": {},
     "output_type": "display_data"
    }
   ],
   "source": [
    "println(p4)"
   ]
  },
  {
   "cell_type": "markdown",
   "metadata": {},
   "source": [
    "字段的重写必须遵循这样的规则:\n",
    "\n",
    "+ def只能重写def\n",
    "+ val只能重写val或者不带参数的def\n",
    "+ var只能重写抽象的var\n",
    "+ 抽象字段重写不需要override标识\n"
   ]
  },
  {
   "cell_type": "markdown",
   "metadata": {},
   "source": [
    "### 受保护字段\n",
    "\n",
    "所谓受保护字段关键字是`protected`,是他的意思是该成员可以被任何子类访问,但不能从其他位置看到.\n",
    "\n",
    "需要注意的是`protected`的成员对于类所属的包是不可见的.\n",
    "\n"
   ]
  },
  {
   "cell_type": "markdown",
   "metadata": {},
   "source": [
    "### 超类\n",
    "\n",
    "超类就是基类.类可以有主构造器和辅助构造器,子类继承超类可以继承主构造器"
   ]
  },
  {
   "cell_type": "code",
   "execution_count": 33,
   "metadata": {
    "collapsed": false
   },
   "outputs": [
    {
     "data": {
      "text/plain": [
       "defined \u001b[32mclass \u001b[36mForce\u001b[0m"
      ]
     },
     "metadata": {},
     "output_type": "display_data"
    }
   ],
   "source": [
    "class Force(X:Double,Y:Double,Type:String,Target:String) extends Vct(X,Y) {\n",
    "    val Unit = \"N\"\n",
    "    override def toString = getClass.getName + \"<\" + X +\",\"+ Y + \">\"+Unit\n",
    "}"
   ]
  },
  {
   "cell_type": "code",
   "execution_count": 36,
   "metadata": {
    "collapsed": false
   },
   "outputs": [
    {
     "data": {
      "text/plain": [
       "\u001b[36mf1\u001b[0m: \u001b[32mForce\u001b[0m = cmd31$$user$Force<2.0,3.0>N"
      ]
     },
     "metadata": {},
     "output_type": "display_data"
    }
   ],
   "source": [
    "val f1 = new Force(2.0,3.0,\"推力\",\"木块\")"
   ]
  },
  {
   "cell_type": "code",
   "execution_count": 37,
   "metadata": {
    "collapsed": false
   },
   "outputs": [
    {
     "data": {
      "text/plain": [
       "\u001b[36mres33\u001b[0m: \u001b[32mForce\u001b[0m = cmd31$$user$Force<2.0,3.0>N"
      ]
     },
     "metadata": {},
     "output_type": "display_data"
    }
   ],
   "source": [
    "f1"
   ]
  },
  {
   "cell_type": "markdown",
   "metadata": {},
   "source": [
    "# 对象\n",
    "\n",
    "在java中对象必须由类实例化,但scala中则不同,可以直接定义对象,就像在js中那样"
   ]
  },
  {
   "cell_type": "code",
   "execution_count": 45,
   "metadata": {
    "collapsed": false
   },
   "outputs": [
    {
     "data": {
      "text/plain": [
       "defined \u001b[32mobject \u001b[36mAccounts\u001b[0m"
      ]
     },
     "metadata": {},
     "output_type": "display_data"
    }
   ],
   "source": [
    "object Accounts {\n",
    "    private var lastNumber = 0\n",
    "    def newUniqueNumber()={\n",
    "        lastNumber +=1\n",
    "        lastNumber\n",
    "    }\n",
    "}"
   ]
  },
  {
   "cell_type": "code",
   "execution_count": 46,
   "metadata": {
    "collapsed": false
   },
   "outputs": [
    {
     "data": {
      "text/plain": [
       "\u001b[36mres42\u001b[0m: \u001b[32mInt\u001b[0m = \u001b[32m1\u001b[0m"
      ]
     },
     "metadata": {},
     "output_type": "display_data"
    }
   ],
   "source": [
    "Accounts.newUniqueNumber"
   ]
  },
  {
   "cell_type": "code",
   "execution_count": 47,
   "metadata": {
    "collapsed": false
   },
   "outputs": [
    {
     "data": {
      "text/plain": [
       "\u001b[36mres43\u001b[0m: \u001b[32mInt\u001b[0m = \u001b[32m2\u001b[0m"
      ]
     },
     "metadata": {},
     "output_type": "display_data"
    }
   ],
   "source": [
    "Accounts.newUniqueNumber"
   ]
  },
  {
   "cell_type": "markdown",
   "metadata": {},
   "source": [
    "## 类的伴生对象\n",
    "\n",
    "scala中没有所谓的类方法或者静态方法,而是用类的伴生对象来实现"
   ]
  },
  {
   "cell_type": "markdown",
   "metadata": {},
   "source": [
    "比如我们定义一个类Money,它有它自己的属性,也有一些类型独有的方法,那么就可以用伴生兑现实现"
   ]
  },
  {
   "cell_type": "code",
   "execution_count": 70,
   "metadata": {
    "collapsed": false
   },
   "outputs": [
    {
     "data": {
      "text/plain": [
       "defined \u001b[32mclass \u001b[36mMoney\u001b[0m\n",
       "defined \u001b[32mclass \u001b[36mCNMoney\u001b[0m\n",
       "defined \u001b[32mclass \u001b[36mJPMoney\u001b[0m\n",
       "defined \u001b[32mobject \u001b[36mMoney\u001b[0m\n",
       "defined \u001b[32mobject \u001b[36mCNMoney\u001b[0m\n",
       "defined \u001b[32mobject \u001b[36mJPMoney\u001b[0m"
      ]
     },
     "metadata": {},
     "output_type": "display_data"
    }
   ],
   "source": [
    "abstract class Money(val value:Double){\n",
    "    val unit:String\n",
    "    override def toString = value + unit + (if (value >1) \"\" else \"s\")\n",
    "}\n",
    "class CNMoney(value:Double) extends Money(value){\n",
    "    val unit=\"元\"\n",
    "    def toJPMoney = Money.RMBtoRY(this)\n",
    "}\n",
    "class JPMoney(value:Double) extends Money(value){\n",
    "    val unit=\"日元\"\n",
    "    def toCNMoney = Money.RYtoRMB(this)\n",
    "}\n",
    "object Money{\n",
    "    private val exchange_rate_CtoJ:Double = 16.3074\n",
    "    def RMBtoRY=(M:CNMoney)=>new JPMoney(M.value*exchange_rate_CtoJ)\n",
    "    def RYtoRMB=(M:JPMoney)=>new CNMoney(M.value*(1/exchange_rate_CtoJ))  \n",
    "}\n",
    "object CNMoney{\n",
    "   def apply(init:Double) = new CNMoney(init)\n",
    "}\n",
    "object JPMoney{\n",
    "   def apply(init:Double) = new JPMoney(init)\n",
    "}"
   ]
  },
  {
   "cell_type": "code",
   "execution_count": 71,
   "metadata": {
    "collapsed": false
   },
   "outputs": [
    {
     "data": {
      "text/plain": [
       "\u001b[36monery\u001b[0m: \u001b[32mJPMoney\u001b[0m = 100.0日元"
      ]
     },
     "metadata": {},
     "output_type": "display_data"
    }
   ],
   "source": [
    "val onery = JPMoney(100)"
   ]
  },
  {
   "cell_type": "code",
   "execution_count": 72,
   "metadata": {
    "collapsed": false
   },
   "outputs": [
    {
     "data": {
      "text/plain": [
       "\u001b[36mres58\u001b[0m: \u001b[32mCNMoney\u001b[0m = 6.132185388228657元"
      ]
     },
     "metadata": {},
     "output_type": "display_data"
    }
   ],
   "source": [
    "onery toCNMoney"
   ]
  },
  {
   "cell_type": "markdown",
   "metadata": {},
   "source": [
    "类和他的伴生对象可以相互访问私有特性.我们也常用在半身对象中定义apply方法的小技巧让实例化一个类不再需要new关键字"
   ]
  },
  {
   "cell_type": "markdown",
   "metadata": {},
   "source": [
    "## 枚举\n",
    "\n",
    "枚举可以看做是一个单例对象,scala提供了一个枚举对象,我们可以定义一个对象来继承它\n"
   ]
  },
  {
   "cell_type": "code",
   "execution_count": 78,
   "metadata": {
    "collapsed": false
   },
   "outputs": [
    {
     "data": {
      "text/plain": [
       "defined \u001b[32mobject \u001b[36mTriColor\u001b[0m"
      ]
     },
     "metadata": {},
     "output_type": "display_data"
    }
   ],
   "source": [
    "object TriColor extends Enumeration{\n",
    "    type TriColor = Value\n",
    "    val Red, Yellow, Green = Value\n",
    "}"
   ]
  },
  {
   "cell_type": "code",
   "execution_count": 80,
   "metadata": {
    "collapsed": false
   },
   "outputs": [
    {
     "data": {
      "text/plain": [
       "defined \u001b[32mfunction \u001b[36mtodo\u001b[0m"
      ]
     },
     "metadata": {},
     "output_type": "display_data"
    }
   ],
   "source": [
    "def todo(color:TriColor.TriColor) = {\n",
    "    color match {\n",
    "        case TriColor.Red => println(\"red\")\n",
    "        case TriColor.Yellow => println(\"yellow\")\n",
    "        case TriColor.Green => println(\"green\")\n",
    "        case _ => println(\"unknow\")\n",
    "    }\n",
    "    \n",
    "}"
   ]
  },
  {
   "cell_type": "code",
   "execution_count": 81,
   "metadata": {
    "collapsed": false
   },
   "outputs": [
    {
     "name": "stdout",
     "output_type": "stream",
     "text": [
      "red\n"
     ]
    },
    {
     "data": {
      "text/plain": []
     },
     "metadata": {},
     "output_type": "display_data"
    }
   ],
   "source": [
    "todo(TriColor.Red)"
   ]
  }
 ],
 "metadata": {
  "kernelspec": {
   "display_name": "Scala 2.11",
   "language": "scala211",
   "name": "scala211"
  },
  "language_info": {
   "codemirror_mode": "text/x-scala",
   "file_extension": "scala",
   "mimetype": "text/x-scala",
   "name": "scala211",
   "pygments_lexer": "scala",
   "version": "2.11.6"
  }
 },
 "nbformat": 4,
 "nbformat_minor": 0
}
