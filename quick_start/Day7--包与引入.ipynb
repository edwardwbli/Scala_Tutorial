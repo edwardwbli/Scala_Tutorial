{
 "cells": [
  {
   "cell_type": "markdown",
   "metadata": {},
   "source": [
    "# scala的包\n",
    "\n",
    "scala的包就像java中的包差不多,起到一个命名空间的作用,用package关键字标识"
   ]
  },
  {
   "cell_type": "markdown",
   "metadata": {},
   "source": [
    "mymath.scala\n",
    "```scala\n",
    "package codes{\n",
    "    package c7{\n",
    "        package lib{\n",
    "            object myMath{\n",
    "                private object sqrtObject{\n",
    "                    def improve(guess:Double,x:Double):Double={\n",
    "                            return average(guess,x/guess)\n",
    "                        }\n",
    "                    def good_enough(guess:Double,x:Double):Boolean={\n",
    "                            if (abs(improve(guess,x) - guess)<(0.001*guess)){\n",
    "                                return true\n",
    "                            }  else {\n",
    "                                return false\n",
    "                            }\n",
    "                        }\n",
    "                    def sqrt_iter(guess:Double,x:Double):Double={\n",
    "                            if (good_enough(guess,x)){\n",
    "                                return guess\n",
    "                            } else {\n",
    "                                sqrt_iter(improve(guess,x),x)\n",
    "                            }\n",
    "                        }\n",
    "                }\n",
    "\n",
    "                def abs = (x:Double)=>if(x>=0) x else -x\n",
    "                def average = (x:Double,y:Double)=> (x+y)/2\n",
    "                def sqrt = (x:Double) => sqrtObject.sqrt_iter(1.0,x)\n",
    "            }\n",
    "        }\n",
    "    }\n",
    "}\n",
    "```"
   ]
  },
  {
   "cell_type": "markdown",
   "metadata": {},
   "source": [
    "main.scala\n",
    "```scala\n",
    "package bin\n",
    "\n",
    "import lib.c7._\n",
    "\n",
    "object c7_main{\n",
    "def main(args: Array[String])={\n",
    "    println(myMath.sqrt(2))\n",
    "}\n",
    "}\n",
    "```"
   ]
  },
  {
   "cell_type": "markdown",
   "metadata": {},
   "source": [
    "可以看出scala支持两种指定包的方式\n",
    "\n",
    "+ 使用package{}包裹作用域\n",
    "+ 使用串联式报语句\n",
    "\n",
    "而引入包则是使用import语句"
   ]
  }
 ],
 "metadata": {
  "kernelspec": {
   "display_name": "Scala 2.11",
   "language": "scala211",
   "name": "scala211"
  },
  "language_info": {
   "codemirror_mode": "text/x-scala",
   "file_extension": "scala",
   "mimetype": "text/x-scala",
   "name": "scala211",
   "pygments_lexer": "scala",
   "version": "2.11.6"
  }
 },
 "nbformat": 4,
 "nbformat_minor": 0
}
