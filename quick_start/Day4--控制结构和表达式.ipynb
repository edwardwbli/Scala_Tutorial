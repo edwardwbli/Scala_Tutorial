{
 "cells": [
  {
   "cell_type": "markdown",
   "metadata": {},
   "source": [
    "# Day4--控制结构和表达式\n",
    "\n",
    "\n",
    "## 控制结构\n",
    "scala的控制结构和c,java的很类似也可以分为\n",
    "\n",
    "+ 判断\n",
    "+ 循环"
   ]
  },
  {
   "cell_type": "markdown",
   "metadata": {},
   "source": [
    "### 判断\n",
    "\n",
    "    scala的if语句形式如下:\n",
    "\n",
    "    if (判断表达式) {\n",
    "        代码块\n",
    "    } else if(判断表达式) {\n",
    "        代码块\n",
    "    } else{\n",
    "        代码块\n",
    "    }\n",
    "\n",
    "scala没有分支结构swtich,但它有模式匹配,后面会学习\n",
    "\n",
    "*判断一个数是不是3或者5的倍数:*"
   ]
  },
  {
   "cell_type": "code",
   "execution_count": null,
   "metadata": {
    "collapsed": false
   },
   "outputs": [],
   "source": [
    "var a = 2\n",
    "if (a%3 == 0 && a%5 == 0) {\n",
    "    println(\"可以被3和5整除\")\n",
    "} else if(a%3 == 0) {\n",
    "    println(\"可以被3整除\")\n",
    "} else if (a%5 == 0) {\n",
    "    println(\"可以被5整除\")\n",
    "} else {\n",
    "    println(\"不能被3或5整除\")\n",
    "}"
   ]
  },
  {
   "cell_type": "markdown",
   "metadata": {},
   "source": [
    "### 循环\n",
    "\n",
    "一般来说循环都有for循环和while循环\n",
    "\n",
    "首先是while循环\n",
    "\n",
    "> while循环\n",
    "\n",
    "while循环一般来说不是推荐的循环形式\n",
    "\n",
    "scala的while循环形如:\n",
    "\n",
    "    while(判断表达式){\n",
    "    代码块\n",
    "    }\n",
    "*牛顿法求2的开方(迭代100次):*"
   ]
  },
  {
   "cell_type": "code",
   "execution_count": 5,
   "metadata": {
    "collapsed": false
   },
   "outputs": [
    {
     "name": "stdout",
     "output_type": "stream",
     "text": [
      "result:\n",
      "1.414213562373095\n"
     ]
    },
    {
     "data": {
      "text/plain": [
       "\u001b[36mi\u001b[0m: Int = \u001b[32m100\u001b[0m\n",
       "\u001b[36mx\u001b[0m: Int = \u001b[32m2\u001b[0m\n",
       "\u001b[36mN\u001b[0m: Int = \u001b[32m100\u001b[0m\n",
       "\u001b[36mz\u001b[0m: Double = \u001b[32m1.414213562373095\u001b[0m"
      ]
     },
     "metadata": {},
     "output_type": "display_data"
    }
   ],
   "source": [
    "var i = 0\n",
    "var x = 2\n",
    "val N = 100\n",
    "var z = 1.0\n",
    "while ( i < N){\n",
    "    z = z-(z*z-x)/(2*z)\n",
    "    i+=1\n",
    "}\n",
    "println(\"result:\")\n",
    "println(z)"
   ]
  },
  {
   "cell_type": "markdown",
   "metadata": {},
   "source": [
    "> for 循环\n",
    "\n",
    "一般大家都是用for循环比较多,\n",
    "\n",
    "scala中for循环形如:\n",
    "\n",
    "    for (arg <- args) {\n",
    "        代码块\n",
    "    }\n",
    "    \n",
    "*遍历打印一个List:*"
   ]
  },
  {
   "cell_type": "code",
   "execution_count": 6,
   "metadata": {
    "collapsed": false
   },
   "outputs": [
    {
     "data": {
      "text/plain": [
       "\u001b[36ml\u001b[0m: List[Int] = \u001b[33mList\u001b[0m(\u001b[32m1\u001b[0m, \u001b[32m2\u001b[0m, \u001b[32m3\u001b[0m, \u001b[32m4\u001b[0m, \u001b[32m5\u001b[0m)"
      ]
     },
     "metadata": {},
     "output_type": "display_data"
    }
   ],
   "source": [
    "val l = List(1,2,3,4,5)"
   ]
  },
  {
   "cell_type": "code",
   "execution_count": 7,
   "metadata": {
    "collapsed": false
   },
   "outputs": [
    {
     "name": "stdout",
     "output_type": "stream",
     "text": [
      "1\n",
      "2\n",
      "3\n",
      "4\n",
      "5\n"
     ]
    },
    {
     "data": {
      "text/plain": []
     },
     "metadata": {},
     "output_type": "display_data"
    }
   ],
   "source": [
    "for (i <- l){\n",
    "    println(i)\n",
    "}"
   ]
  },
  {
   "cell_type": "markdown",
   "metadata": {},
   "source": [
    ">跳出循环\n",
    "\n",
    "scala中没有原生的break,如果要用break需要引入`scala.util.control.Breaks._`\n",
    "如果在函数中,那也可以用return 退出"
   ]
  },
  {
   "cell_type": "markdown",
   "metadata": {},
   "source": [
    "## 表达式\n",
    "\n",
    "scala中几乎什么都是表达式,因此代码可以没什么限制的传递\n",
    "\n",
    "> if表达式\n",
    "\n",
    "就像python中的条件表达式差不多,scala也有条件表达式"
   ]
  },
  {
   "cell_type": "code",
   "execution_count": 8,
   "metadata": {
    "collapsed": false
   },
   "outputs": [
    {
     "data": {
      "text/plain": [
       "\u001b[36ma\u001b[0m: Int = \u001b[32m10\u001b[0m\n",
       "\u001b[36mres6_1\u001b[0m: Boolean = true"
      ]
     },
     "metadata": {},
     "output_type": "display_data"
    }
   ],
   "source": [
    "val a = 10\n",
    "if (a > 10) false else true"
   ]
  },
  {
   "cell_type": "markdown",
   "metadata": {},
   "source": [
    "> for表达式\n",
    "\n",
    "for表达式有点类似于python中的列表解析或者生成器表达式"
   ]
  },
  {
   "cell_type": "code",
   "execution_count": 9,
   "metadata": {
    "collapsed": false
   },
   "outputs": [
    {
     "name": "stdout",
     "output_type": "stream",
     "text": [
      "11 12 13 21 22 23 31 32 33 "
     ]
    },
    {
     "data": {
      "text/plain": []
     },
     "metadata": {},
     "output_type": "display_data"
    }
   ],
   "source": [
    "for (i <- 1 to 3; j <-1 to 3)print((10*i+j)+ \" \")"
   ]
  },
  {
   "cell_type": "code",
   "execution_count": 11,
   "metadata": {
    "collapsed": false
   },
   "outputs": [
    {
     "data": {
      "text/plain": [
       "\u001b[36mres9\u001b[0m: scala.collection.immutable.IndexedSeq[Int] = \u001b[33mVector\u001b[0m(\n",
       "  \u001b[32m11\u001b[0m,\n",
       "  \u001b[32m12\u001b[0m,\n",
       "  \u001b[32m13\u001b[0m,\n",
       "  \u001b[32m21\u001b[0m,\n",
       "  \u001b[32m22\u001b[0m,\n",
       "  \u001b[32m23\u001b[0m,\n",
       "  \u001b[32m31\u001b[0m,\n",
       "  \u001b[32m32\u001b[0m,\n",
       "  \u001b[32m33\u001b[0m\n",
       ")"
      ]
     },
     "metadata": {},
     "output_type": "display_data"
    }
   ],
   "source": [
    "for (i <- 1 to 3; j <-1 to 3)yield(10*i+j)//生成一个向量"
   ]
  },
  {
   "cell_type": "code",
   "execution_count": 13,
   "metadata": {
    "collapsed": false
   },
   "outputs": [
    {
     "data": {
      "text/plain": [
       "\u001b[36mres10\u001b[0m: List[Int] = \u001b[33mList\u001b[0m(\n",
       "  \u001b[32m11\u001b[0m,\n",
       "  \u001b[32m12\u001b[0m,\n",
       "  \u001b[32m13\u001b[0m,\n",
       "  \u001b[32m21\u001b[0m,\n",
       "  \u001b[32m22\u001b[0m,\n",
       "  \u001b[32m23\u001b[0m,\n",
       "  \u001b[32m31\u001b[0m,\n",
       "  \u001b[32m32\u001b[0m,\n",
       "  \u001b[32m33\u001b[0m\n",
       ")"
      ]
     },
     "metadata": {},
     "output_type": "display_data"
    }
   ],
   "source": [
    "for (i <- (1 to 3).toList; j <-1 to 3)yield(10*i+j)//和它的第一位集合类型有关"
   ]
  },
  {
   "cell_type": "code",
   "execution_count": 14,
   "metadata": {
    "collapsed": false
   },
   "outputs": [
    {
     "data": {
      "text/plain": [
       "\u001b[36mres11\u001b[0m: scala.collection.immutable.IndexedSeq[Int] = \u001b[33mVector\u001b[0m(\u001b[32m3\u001b[0m, \u001b[32m6\u001b[0m, \u001b[32m9\u001b[0m)"
      ]
     },
     "metadata": {},
     "output_type": "display_data"
    }
   ],
   "source": [
    "for(i<- 1 to 10 if i%3==0 ) yield(i)//在循环中判断"
   ]
  },
  {
   "cell_type": "code",
   "execution_count": 17,
   "metadata": {
    "collapsed": false
   },
   "outputs": [
    {
     "data": {
      "text/plain": [
       "\u001b[36mres14\u001b[0m: scala.collection.immutable.IndexedSeq[Int] = \u001b[33mVector\u001b[0m(\u001b[32m13\u001b[0m, \u001b[32m22\u001b[0m, \u001b[32m23\u001b[0m, \u001b[32m31\u001b[0m, \u001b[32m32\u001b[0m, \u001b[32m33\u001b[0m)"
      ]
     },
     "metadata": {},
     "output_type": "display_data"
    }
   ],
   "source": [
    "for(i<- 1 to 3;x = 4 - i;j<- x to 3) yield(i*10+j)"
   ]
  },
  {
   "cell_type": "markdown",
   "metadata": {},
   "source": [
    "> 块表达式\n",
    "\n",
    "在scala中,用`{}`包裹的代码叫代码块,而每个代码块都是块表达式,而块中最后一个表达式的值就是这个块表达式的值(可以理解为返回值)\n",
    "\n",
    "赋值语句在scala中本身没有值(值为Unit),因此要注意块表达式不要以赋值表达式结束"
   ]
  },
  {
   "cell_type": "code",
   "execution_count": 20,
   "metadata": {
    "collapsed": false
   },
   "outputs": [
    {
     "name": "stdout",
     "output_type": "stream",
     "text": [
      "3"
     ]
    },
    {
     "data": {
      "text/plain": []
     },
     "metadata": {},
     "output_type": "display_data"
    }
   ],
   "source": [
    "print({var a = 1; var b = 2; a+b})"
   ]
  }
 ],
 "metadata": {
  "kernelspec": {
   "display_name": "Scala 2.11",
   "language": "scala211",
   "name": "scala211"
  },
  "language_info": {
   "codemirror_mode": "text/x-scala",
   "file_extension": "scala",
   "mimetype": "text/x-scala",
   "name": "scala211",
   "pygments_lexer": "scala",
   "version": "2.11.6"
  }
 },
 "nbformat": 4,
 "nbformat_minor": 0
}
