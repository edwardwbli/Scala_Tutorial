{
 "cells": [
  {
   "cell_type": "markdown",
   "metadata": {},
   "source": [
    "# 环境配置与简单项目编译执行 \n",
    "\n",
    "scala是一种静态多范式语言.它可以使用repl作为脚本执行,也可以通过scalac编译为jvm上可运行的class来执行,我们一样一样说"
   ]
  },
  {
   "cell_type": "markdown",
   "metadata": {},
   "source": [
    "## 环境依赖\n",
    "\n",
    "scala的主项目是跑在jvm上的,要使用它你必须现有jvm,最简单的方式是你要先装java,搜索引擎搜jdk,就可以了,常见的jdk有两种,一种是oracle的jdk,这个不是开源的(google和他家打官司也是因为安卓用了他家的jdk),另一种是开源的[openjdk](http://openjdk.java.net/),学习的时候用用官方的,真要开发的时候还是用开源的吧,碰到流氓最好的办法是绕开."
   ]
  },
  {
   "cell_type": "markdown",
   "metadata": {},
   "source": [
    "## scala安装\n",
    "\n",
    "scala现在的版本是2.11,但最常用的或者说spark一般用的是2.10,他们在使用上区别不大,但二进制码并不兼容,我们这边以2.11版本作为学习的版本.\n",
    "\n",
    "去[官网](http://www.scala-lang.org/)下载安装即可,如果和我一样是mac用户,可以直接使用homebrew安装,相当方便.\n",
    "\n",
    "注意安装完后不管有没有自动配置好,都配置下环境变量`JAVA_HOME`和`SCALA_HOME`"
   ]
  },
  {
   "cell_type": "markdown",
   "metadata": {},
   "source": [
    "## 交互模式\n",
    "\n",
    "在terminal中输入scala就可以进入交互模式了,交互模式就想python一样,一行一行执行,没啥太多可说的.值得一提的是scala的交互模式可以通过jupyter项目在`jupyter notebook`中使用,你只需要安装对应的kernel即可,我使用的是[jupyter-scala](https://github.com/alexarchambault/jupyter-scala),按说明安装就好"
   ]
  },
  {
   "cell_type": "code",
   "execution_count": 1,
   "metadata": {
    "collapsed": false
   },
   "outputs": [
    {
     "data": {
      "text/plain": [
       "\u001b[36ms\u001b[0m: \u001b[32mInt\u001b[0m = \u001b[32m10\u001b[0m"
      ]
     },
     "metadata": {},
     "output_type": "display_data"
    }
   ],
   "source": [
    "val s = 10"
   ]
  },
  {
   "cell_type": "code",
   "execution_count": 2,
   "metadata": {
    "collapsed": false
   },
   "outputs": [
    {
     "data": {
      "text/plain": [
       "\u001b[36mres1\u001b[0m: \u001b[32mInt\u001b[0m = \u001b[32m10\u001b[0m"
      ]
     },
     "metadata": {},
     "output_type": "display_data"
    }
   ],
   "source": [
    "s"
   ]
  },
  {
   "cell_type": "code",
   "execution_count": 1,
   "metadata": {
    "collapsed": false
   },
   "outputs": [
    {
     "data": {
      "text/plain": [
       "defined \u001b[32mfunction \u001b[36madd\u001b[0m"
      ]
     },
     "metadata": {},
     "output_type": "display_data"
    }
   ],
   "source": [
    "def add = (x:Int)=>(y:Int)=>x+y"
   ]
  },
  {
   "cell_type": "code",
   "execution_count": 2,
   "metadata": {
    "collapsed": false
   },
   "outputs": [
    {
     "data": {
      "text/plain": [
       "\u001b[36mres1\u001b[0m: \u001b[32mInt\u001b[0m = \u001b[32m7\u001b[0m"
      ]
     },
     "metadata": {},
     "output_type": "display_data"
    }
   ],
   "source": [
    "add(3)(4)"
   ]
  },
  {
   "cell_type": "markdown",
   "metadata": {},
   "source": [
    "## 编译模式\n",
    "\n",
    "更常见的用法是把scala代码保存为文件,然后编译为可执行文件(class)使用,我们需要用到scalac来编译源码文件"
   ]
  },
  {
   "cell_type": "markdown",
   "metadata": {},
   "source": [
    "codes/c1/hellowordl/src/helloworld/helloworld.scala:\n",
    "\n",
    "```scala\n",
    "\n",
    "object HelloWorld {\n",
    "  def main(args: Array[String]) {\n",
    "    println(\"Hello World!\")\n",
    "  }\n",
    "}\n",
    "\n",
    "```"
   ]
  },
  {
   "cell_type": "markdown",
   "metadata": {},
   "source": [
    "之后使用scalac编译:"
   ]
  },
  {
   "cell_type": "markdown",
   "metadata": {},
   "source": [
    "```shell\n",
    "scalac src/helloworld/helloworld.scala\n",
    "```"
   ]
  },
  {
   "cell_type": "markdown",
   "metadata": {},
   "source": [
    "运行也只要这样:\n",
    "\n",
    "```shell\n",
    "\n",
    "scala HelloWorld\n",
    "```"
   ]
  },
  {
   "cell_type": "markdown",
   "metadata": {
    "collapsed": true
   },
   "source": [
    "## 使用sbt创建scala项目\n",
    "\n",
    "sbt是scala的主要构建项目工具,它会把依赖下载到`~/.ivy2/cache`\n",
    "\n",
    "sbt推荐的项目文件结构是：\n",
    "\n",
    "+ build.sbt 配置文件\n",
    "+ src 程序目录\n",
    "\n",
    "    + main 主程序\n",
    "    \n",
    "        + scala\n",
    "        + java\n",
    "        \n",
    "    + test 测试程序\n",
    "    \n",
    "        + scala\n",
    "        + java\n",
    "        \n",
    "    + webapp Web程序\n",
    "    \n",
    "        + WEB-INF\n",
    "        + js\n",
    "        + css\n",
    "        \n",
    "    + project 项目配置文件\n",
    "    \n",
    "        + plugins.sbt\n",
    "        + build.properties\n",
    "        + build.sbt\n",
    "        \n",
    "        \n",
    "    + lib 其他第三方类库（非sbt管理）\n",
    "    + target 编译生成文件的目录"
   ]
  },
  {
   "cell_type": "markdown",
   "metadata": {},
   "source": [
    "例:\n",
    "build.sbt:\n",
    "\n",
    "```\n",
    "organization := \"scalawebapp\"\n",
    " \n",
    "name := \"ScalaWebApp\"\n",
    " \n",
    "version := \"1.0\"\n",
    " \n",
    "scalacOptions ++= Seq (\"-unchecked\", \"-deprecation\")\n",
    " \n",
    "libraryDependencies ++= Seq(\n",
    "\"org.scalaz\" %% \"scalaz-core\" % \"6.0.3\",\n",
    "\"org.scalaz\" %% \"scalaz-http\" % \"6.0.3\",\n",
    "\"org.squeryl\" % \"squeryl_2.10\" % \"0.9.5-6\"\n",
    ")\n",
    "```\n",
    "\n",
    "+ name，项目名称\n",
    "+ version，版本号\n",
    "+ scalacOptions，编译器选项\n",
    "+ libraryDependencies，用于添加第三方类库，格式为：\"organization\" % \"library name\" % \"version\"，或者\"organization\" %% \"library name\" % \"version\"，唯一的不同在于后者会在寻找类库时会匹配Scala编译器的版本"
   ]
  },
  {
   "cell_type": "markdown",
   "metadata": {},
   "source": [
    "我们的项目hellosbt的build.sbt这样写"
   ]
  },
  {
   "cell_type": "markdown",
   "metadata": {},
   "source": [
    "build.sbt:\n",
    "\n",
    "```\n",
    "name := \"HelloSbt\"\n",
    "\n",
    "version := \"1.0\"\n",
    "\n",
    "```\n",
    "\n",
    "\n",
    "main.scala\n",
    "\n",
    "```scala\n",
    "object HelloSbt {\n",
    "  def main(args: Array[String]) {\n",
    "    println(\"Hello Sbt!\")\n",
    "  }\n",
    "}\n",
    "\n",
    "```\n",
    "\n",
    "接着只要在项目根目录运行`sbt`命令,进入repl后再使用run命令即可编译运行"
   ]
  },
  {
   "cell_type": "markdown",
   "metadata": {},
   "source": [
    "## 关于sbt和墙\n",
    "\n",
    "sbt是typesafe公司的产品,也是scala的官方指定包管理工具,但是和他的名字一样,这玩意儿在墙内很傻比(ShaBi Tool),经常因为下载依赖出错无法使用.怎么解呢?翻墙...推荐免费工具lantern,但这玩意儿看脸看时间...有条件还是找个vpn比较好"
   ]
  }
 ],
 "metadata": {
  "kernelspec": {
   "display_name": "Scala 2.11",
   "language": "scala211",
   "name": "scala211"
  },
  "language_info": {
   "codemirror_mode": "text/x-scala",
   "file_extension": "scala",
   "mimetype": "text/x-scala",
   "name": "scala211",
   "pygments_lexer": "scala",
   "version": "2.11.6"
  }
 },
 "nbformat": 4,
 "nbformat_minor": 0
}
