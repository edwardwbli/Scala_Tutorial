{
 "cells": [
  {
   "cell_type": "markdown",
   "metadata": {},
   "source": [
    "# I/O操作\n",
    "\n",
    "scala提供了简洁的I/O接口,用起来非常方便,\n",
    "scala的I/O操作使用\n",
    "\n",
    "+ `scala.io.Source`读取\n",
    "+ `java.io`和`java.nio.file._`写文件"
   ]
  },
  {
   "cell_type": "markdown",
   "metadata": {},
   "source": [
    "> 读"
   ]
  },
  {
   "cell_type": "markdown",
   "metadata": {},
   "source": [
    "## 文件I/O读取"
   ]
  },
  {
   "cell_type": "code",
   "execution_count": 1,
   "metadata": {
    "collapsed": false
   },
   "outputs": [
    {
     "data": {
      "text/plain": [
       "\u001b[32mimport \u001b[36mscala.io.Source\u001b[0m"
      ]
     },
     "metadata": {},
     "output_type": "display_data"
    }
   ],
   "source": [
    "import scala.io.Source"
   ]
  },
  {
   "cell_type": "code",
   "execution_count": 2,
   "metadata": {
    "collapsed": false
   },
   "outputs": [
    {
     "data": {
      "text/plain": [
       "\u001b[36mfilename\u001b[0m: \u001b[32mString\u001b[0m = \u001b[32m\"README.md\"\u001b[0m"
      ]
     },
     "metadata": {},
     "output_type": "display_data"
    }
   ],
   "source": [
    "val filename=\"README.md\""
   ]
  },
  {
   "cell_type": "code",
   "execution_count": 3,
   "metadata": {
    "collapsed": false
   },
   "outputs": [
    {
     "data": {
      "text/plain": [
       "\u001b[36mlines\u001b[0m: \u001b[32mList\u001b[0m[\u001b[32mString\u001b[0m] = \u001b[33mList\u001b[0m(\n",
       "  \u001b[32m\"# 快速入门\"\u001b[0m,\n",
       "  \u001b[32m\"\"\u001b[0m,\n",
       "  \u001b[32m\"+ 环境配置和helloworld\"\u001b[0m,\n",
       "  \u001b[32m\"\"\u001b[0m,\n",
       "  \u001b[32m\"+ io读写\"\u001b[0m,\n",
       "  \u001b[32m\"\"\u001b[0m,\n",
       "  \u001b[32m\"+ 变量,常量和值\"\u001b[0m,\n",
       "  \u001b[32m\"\"\u001b[0m,\n",
       "  \u001b[32m\"+ 运算符\"\u001b[0m,\n",
       "  \u001b[32m\"\"\u001b[0m,\n",
       "  \u001b[32m\"+ 容器\"\u001b[0m,\n",
       "  \u001b[32m\"\"\u001b[0m,\n",
       "  \u001b[32m\"+ 控制结构\"\u001b[0m,\n",
       "  \u001b[32m\"\"\u001b[0m,\n",
       "\u001b[33m...\u001b[0m"
      ]
     },
     "metadata": {},
     "output_type": "display_data"
    }
   ],
   "source": [
    "val lines=Source.fromFile(filename).getLines.toList"
   ]
  },
  {
   "cell_type": "markdown",
   "metadata": {},
   "source": [
    "## 网络I/O读取"
   ]
  },
  {
   "cell_type": "code",
   "execution_count": 5,
   "metadata": {
    "collapsed": false
   },
   "outputs": [
    {
     "data": {
      "text/plain": [
       "\u001b[32mimport \u001b[36mjava.net.{URL, URLEncoder}\u001b[0m"
      ]
     },
     "metadata": {},
     "output_type": "display_data"
    }
   ],
   "source": [
    "import java.net.{URL, URLEncoder}"
   ]
  },
  {
   "cell_type": "code",
   "execution_count": 6,
   "metadata": {
    "collapsed": false
   },
   "outputs": [
    {
     "data": {
      "text/plain": [
       "\u001b[32mimport \u001b[36mscala.io.Codec.UTF8\u001b[0m"
      ]
     },
     "metadata": {},
     "output_type": "display_data"
    }
   ],
   "source": [
    "import scala.io.Codec.UTF8"
   ]
  },
  {
   "cell_type": "code",
   "execution_count": 15,
   "metadata": {
    "collapsed": false
   },
   "outputs": [
    {
     "data": {
      "text/plain": [
       "\u001b[36murl\u001b[0m: \u001b[32mString\u001b[0m = \u001b[32m\"https://www.baidu.com/\"\u001b[0m"
      ]
     },
     "metadata": {},
     "output_type": "display_data"
    }
   ],
   "source": [
    "val url=\"https://www.baidu.com/\""
   ]
  },
  {
   "cell_type": "code",
   "execution_count": 16,
   "metadata": {
    "collapsed": false
   },
   "outputs": [
    {
     "data": {
      "text/plain": [
       "\u001b[36mlines\u001b[0m: \u001b[32mString\u001b[0m = \u001b[32m\"\"\"\n",
       "<html>\r\n",
       "<head>\r\n",
       "\t<script>\r\n",
       "\t\tlocation.replace(location.href.replace(\"https://\",\"http://\"));\r\n",
       "\t</script>\r\n",
       "</head>\r\n",
       "<body>\r\n",
       "\t<noscript><meta http-equiv=\"refresh\" content=\"0;url=http://www.baidu.com/\"></noscript>\r\n",
       "</body>\r\n",
       "</html>\n",
       "\"\"\"\u001b[0m"
      ]
     },
     "metadata": {},
     "output_type": "display_data"
    }
   ],
   "source": [
    "val lines=Source.fromURL(new URL(url))(UTF8).mkString"
   ]
  },
  {
   "cell_type": "markdown",
   "metadata": {},
   "source": [
    "> 写"
   ]
  },
  {
   "cell_type": "markdown",
   "metadata": {},
   "source": [
    "## 写文件"
   ]
  },
  {
   "cell_type": "code",
   "execution_count": 17,
   "metadata": {
    "collapsed": false
   },
   "outputs": [
    {
     "data": {
      "text/plain": [
       "\u001b[32mimport \u001b[36mjava.io._\u001b[0m"
      ]
     },
     "metadata": {},
     "output_type": "display_data"
    }
   ],
   "source": [
    "import java.io._"
   ]
  },
  {
   "cell_type": "code",
   "execution_count": 18,
   "metadata": {
    "collapsed": false
   },
   "outputs": [
    {
     "data": {
      "text/plain": [
       "\u001b[36mwriter\u001b[0m: \u001b[32mPrintWriter\u001b[0m = java.io.PrintWriter@1d886cf7"
      ]
     },
     "metadata": {},
     "output_type": "display_data"
    }
   ],
   "source": [
    "val writer = new PrintWriter(new File(\"codes/c8/test.txt\" ))\n",
    "writer.write(\"1,2,3,4,5\")\n",
    "writer.close()"
   ]
  }
 ],
 "metadata": {
  "kernelspec": {
   "display_name": "Scala 2.11",
   "language": "scala211",
   "name": "scala211"
  },
  "language_info": {
   "codemirror_mode": "text/x-scala",
   "file_extension": "scala",
   "mimetype": "text/x-scala",
   "name": "scala211",
   "pygments_lexer": "scala",
   "version": "2.11.6"
  }
 },
 "nbformat": 4,
 "nbformat_minor": 0
}
