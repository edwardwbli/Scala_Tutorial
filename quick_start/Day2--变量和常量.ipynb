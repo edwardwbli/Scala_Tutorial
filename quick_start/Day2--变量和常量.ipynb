{
 "cells": [
  {
   "cell_type": "markdown",
   "metadata": {},
   "source": [
    "# 变量与常量\n",
    "\n",
    "\n",
    "## 变量\n",
    "\n",
    "Scala是静态强类型语言.它的变量是固定类型的.但你可以不用显式地声明时标出它的类型,只要告诉编译器说'我要定义一个变量,它是10'就行了,scala会自己推断出变量的类型(类型推断).\n",
    "\n",
    "*定义一个变量:*"
   ]
  },
  {
   "cell_type": "code",
   "execution_count": 26,
   "metadata": {
    "collapsed": false
   },
   "outputs": [
    {
     "data": {
      "text/plain": [
       "\u001b[36ma\u001b[0m: Int = \u001b[32m10\u001b[0m"
      ]
     },
     "metadata": {},
     "output_type": "display_data"
    }
   ],
   "source": [
    "var a =10"
   ]
  },
  {
   "cell_type": "markdown",
   "metadata": {},
   "source": [
    "## 常量\n",
    "\n",
    "常量是定义后无法改变值的量,Scala支持常量,并鼓励使用常量.常量拥有更好地安全性.\n",
    "\n",
    "*定义一个常量:*"
   ]
  },
  {
   "cell_type": "code",
   "execution_count": 15,
   "metadata": {
    "collapsed": false
   },
   "outputs": [
    {
     "data": {
      "text/plain": [
       "\u001b[36mA\u001b[0m: Double = \u001b[32m3.14\u001b[0m"
      ]
     },
     "metadata": {},
     "output_type": "display_data"
    }
   ],
   "source": [
    "val A = 3.14"
   ]
  },
  {
   "cell_type": "markdown",
   "metadata": {},
   "source": [
    "## 显式地声明变量或常量\n",
    "\n",
    "Scala不支持类似c的先声明,再赋值的定义变量方式,但可以显式的声明变量的类型\n",
    "\n",
    "*声明一个Double类型的变量10:*"
   ]
  },
  {
   "cell_type": "code",
   "execution_count": 16,
   "metadata": {
    "collapsed": false
   },
   "outputs": [
    {
     "data": {
      "text/plain": [
       "\u001b[36mb\u001b[0m: Double = \u001b[32m10.0\u001b[0m"
      ]
     },
     "metadata": {},
     "output_type": "display_data"
    }
   ],
   "source": [
    "var b:Double = 10"
   ]
  },
  {
   "cell_type": "markdown",
   "metadata": {},
   "source": [
    "## 懒值lazy\n",
    "\n",
    "当一个常量被声明为懒值时,他不会立刻初始化,而要等到首次调用它取值时才会初始化\n"
   ]
  },
  {
   "cell_type": "code",
   "execution_count": 4,
   "metadata": {
    "collapsed": false
   },
   "outputs": [
    {
     "data": {
      "text/plain": [
       "\u001b[36mb\u001b[0m: Int = \u001b[32m<lazy>\u001b[0m"
      ]
     },
     "metadata": {},
     "output_type": "display_data"
    }
   ],
   "source": [
    "lazy val b :Int = 10"
   ]
  },
  {
   "cell_type": "code",
   "execution_count": 5,
   "metadata": {
    "collapsed": false
   },
   "outputs": [
    {
     "data": {
      "text/plain": [
       "\u001b[36mres4\u001b[0m: Int = \u001b[32m11\u001b[0m"
      ]
     },
     "metadata": {},
     "output_type": "display_data"
    }
   ],
   "source": [
    "b +1"
   ]
  },
  {
   "cell_type": "markdown",
   "metadata": {},
   "source": [
    "## 用def 定义变量\n",
    "\n",
    "def 是用来定义函数的关键字,但同样的,我们也可以拿他定义变量,\n",
    "函数的好处是定义的时候不会声明也不会初始化,要调用的时候后才变成指定的类型\n",
    "用`def`定义的变量往往作为取值器使用 "
   ]
  },
  {
   "cell_type": "code",
   "execution_count": 9,
   "metadata": {
    "collapsed": false
   },
   "outputs": [
    {
     "data": {
      "text/plain": [
       "defined \u001b[32mfunction \u001b[36mf\u001b[0m"
      ]
     },
     "metadata": {},
     "output_type": "display_data"
    }
   ],
   "source": [
    "def f:Double=10"
   ]
  },
  {
   "cell_type": "code",
   "execution_count": 10,
   "metadata": {
    "collapsed": false
   },
   "outputs": [
    {
     "data": {
      "text/plain": [
       "\u001b[36mres9\u001b[0m: Double = \u001b[32m10.0\u001b[0m"
      ]
     },
     "metadata": {},
     "output_type": "display_data"
    }
   ],
   "source": [
    "f"
   ]
  },
  {
   "cell_type": "markdown",
   "metadata": {},
   "source": [
    "## 多变量声明赋值(语法糖)\n",
    "\n",
    "和python类似,scala同样支持多变量赋值,但不同的是这只是一个语法糖,只能当他们同值才可以这么赋值\n",
    "\n",
    "*多赋值:*"
   ]
  },
  {
   "cell_type": "code",
   "execution_count": 17,
   "metadata": {
    "collapsed": false
   },
   "outputs": [
    {
     "data": {
      "text/plain": [
       "\u001b[36mx\u001b[0m: Int = \u001b[32m1\u001b[0m\n",
       "\u001b[36my\u001b[0m: Int = \u001b[32m1\u001b[0m\n",
       "\u001b[36mz\u001b[0m: Int = \u001b[32m1\u001b[0m"
      ]
     },
     "metadata": {},
     "output_type": "display_data"
    }
   ],
   "source": [
    "val x, y, z = 1"
   ]
  },
  {
   "cell_type": "markdown",
   "metadata": {},
   "source": [
    "## 用表达式赋值(语法糖)\n",
    "\n",
    "除了可以赋值值外,也可以赋值为一个表达式,而实际变量获得的是这个表达式的运算结果"
   ]
  },
  {
   "cell_type": "code",
   "execution_count": 18,
   "metadata": {
    "collapsed": false
   },
   "outputs": [
    {
     "data": {
      "text/plain": [
       "\u001b[36ms\u001b[0m: Int = \u001b[32m50\u001b[0m"
      ]
     },
     "metadata": {},
     "output_type": "display_data"
    }
   ],
   "source": [
    "val s =10*5"
   ]
  },
  {
   "cell_type": "markdown",
   "metadata": {},
   "source": [
    "## 值类型\n",
    "\n",
    "scala的值都是平等的对象,常用的类型有\n",
    "\n",
    "类型|说明\n",
    "---|---\n",
    "Byte|字节\n",
    "Char|字符\n",
    "Short|短整数\n",
    "Int|整数\n",
    "Long|长整数\n",
    "Float|浮点数\n",
    "Double|双精度浮点数\n",
    "Boolean|布尔型\n",
    "String|字符串"
   ]
  },
  {
   "cell_type": "markdown",
   "metadata": {},
   "source": [
    "### 操作符(语法糖)\n",
    "\n",
    "Scala和c和java运算符基本一样,其实大部分语言都一样,不同的是scala没有`++`,`--`运算符,和python一样,这些用`+=`,`-=`代替.\n",
    "\n",
    "在Scala中操作符,运算符也是方法(后面会讲运算符重载),因此哪些运算符除了可以像c中,java中一样用外也可以使用`.+(x)`这样的符号表示(`.`表示应用对象的方法)\n",
    "\n",
    "*运算符用法对比:*"
   ]
  },
  {
   "cell_type": "code",
   "execution_count": 19,
   "metadata": {
    "collapsed": false
   },
   "outputs": [
    {
     "data": {
      "text/plain": [
       "\u001b[36mc\u001b[0m: Double = \u001b[32m20.0\u001b[0m"
      ]
     },
     "metadata": {},
     "output_type": "display_data"
    }
   ],
   "source": [
    "var c = a+b"
   ]
  },
  {
   "cell_type": "code",
   "execution_count": 20,
   "metadata": {
    "collapsed": false
   },
   "outputs": [
    {
     "data": {
      "text/plain": [
       "\u001b[36md\u001b[0m: Double = \u001b[32m20.0\u001b[0m"
      ]
     },
     "metadata": {},
     "output_type": "display_data"
    }
   ],
   "source": [
    "var d = a.+(b)"
   ]
  },
  {
   "cell_type": "markdown",
   "metadata": {},
   "source": [
    "这也就诞生了一个语法糖,一个对象要执行一个操作的时候可以直接用`object1 func arg1,arg2...`这样的形式表现.因此可以根据这个语法糖写出非常符合人类阅读习惯的语句\n",
    "\n",
    "*对象调用方法语法糖:*"
   ]
  },
  {
   "cell_type": "code",
   "execution_count": 21,
   "metadata": {
    "collapsed": false
   },
   "outputs": [
    {
     "data": {
      "text/plain": [
       "\u001b[36mcs\u001b[0m: java.lang.String = \u001b[32m\"20.0\"\u001b[0m"
      ]
     },
     "metadata": {},
     "output_type": "display_data"
    }
   ],
   "source": [
    "var cs = c.toString()"
   ]
  },
  {
   "cell_type": "code",
   "execution_count": 22,
   "metadata": {
    "collapsed": false
   },
   "outputs": [
    {
     "data": {
      "text/plain": [
       "\u001b[36mcso\u001b[0m: java.lang.String = \u001b[32m\"20.0\"\u001b[0m"
      ]
     },
     "metadata": {},
     "output_type": "display_data"
    }
   ],
   "source": [
    "var cso = c toString"
   ]
  },
  {
   "cell_type": "markdown",
   "metadata": {},
   "source": [
    "### 类型转换\n",
    "\n",
    "上面其实已经有了演示,类型转换非常简单,像转成什么就用`to类型`就可以了,也有几个例外,比如String要转换成Int就不那么容易,得先转换成字符.\n",
    "\n",
    "*字符A转换成Int类型:*"
   ]
  },
  {
   "cell_type": "code",
   "execution_count": 23,
   "metadata": {
    "collapsed": false
   },
   "outputs": [
    {
     "data": {
      "text/plain": [
       "\u001b[36mchar1\u001b[0m: Char = \u001b[32m'A'\u001b[0m"
      ]
     },
     "metadata": {},
     "output_type": "display_data"
    }
   ],
   "source": [
    "val char1 = \"A\"(0)"
   ]
  },
  {
   "cell_type": "code",
   "execution_count": 24,
   "metadata": {
    "collapsed": false
   },
   "outputs": [
    {
     "data": {
      "text/plain": [
       "\u001b[36mchar1int\u001b[0m: Int = \u001b[32m65\u001b[0m"
      ]
     },
     "metadata": {},
     "output_type": "display_data"
    }
   ],
   "source": [
    "val char1int = char1.toInt"
   ]
  },
  {
   "cell_type": "markdown",
   "metadata": {},
   "source": [
    "## 全局utf-8编码\n",
    "\n",
    "和python3,java一样,scala支持全局utf-8编码,也就是说,你的变量可以是中文,日语,法语,各种.(因为jupyter 编码问题,首字母没法定义为中文字,"
   ]
  },
  {
   "cell_type": "code",
   "execution_count": 13,
   "metadata": {
    "collapsed": false
   },
   "outputs": [
    {
     "data": {
      "text/plain": [
       "\u001b[36mu我\u001b[0m: Int = \u001b[32m1\u001b[0m"
      ]
     },
     "metadata": {},
     "output_type": "display_data"
    }
   ],
   "source": [
    "val u我 = 1"
   ]
  }
 ],
 "metadata": {
  "kernelspec": {
   "display_name": "Scala 2.11",
   "language": "scala211",
   "name": "scala211"
  },
  "language_info": {
   "codemirror_mode": "text/x-scala",
   "file_extension": "scala",
   "mimetype": "text/x-scala",
   "name": "scala211",
   "pygments_lexer": "scala",
   "version": "2.11.6"
  }
 },
 "nbformat": 4,
 "nbformat_minor": 0
}
